{
 "cells": [
  {
   "cell_type": "code",
   "execution_count": 1,
   "id": "16cc26c7",
   "metadata": {},
   "outputs": [],
   "source": [
    "import mysql.connector as connection"
   ]
  },
  {
   "cell_type": "code",
   "execution_count": 2,
   "id": "9569472b",
   "metadata": {},
   "outputs": [],
   "source": [
    "conn = connection.connect(host=\"localhost\",user=\"root\",use_pure=True)"
   ]
  },
  {
   "cell_type": "code",
   "execution_count": 3,
   "id": "5f27234a",
   "metadata": {},
   "outputs": [],
   "source": [
    "cur = conn.cursor()"
   ]
  },
  {
   "cell_type": "code",
   "execution_count": 4,
   "id": "4b2e279a",
   "metadata": {},
   "outputs": [],
   "source": [
    "cur.execute(\"create database student1\")"
   ]
  },
  {
   "cell_type": "code",
   "execution_count": 5,
   "id": "c63c6d50",
   "metadata": {},
   "outputs": [],
   "source": [
    "res = cur.fetchall()"
   ]
  },
  {
   "cell_type": "code",
   "execution_count": 6,
   "id": "34ed25ba",
   "metadata": {},
   "outputs": [],
   "source": [
    "for i in res :\n",
    "    print(i[0])"
   ]
  },
  {
   "cell_type": "code",
   "execution_count": 7,
   "id": "3824733d",
   "metadata": {},
   "outputs": [],
   "source": [
    "query = \"SHOW DATABASES\"\n",
    "cur.execute(query)"
   ]
  },
  {
   "cell_type": "code",
   "execution_count": 8,
   "id": "45977422",
   "metadata": {},
   "outputs": [
    {
     "name": "stdout",
     "output_type": "stream",
     "text": [
      "[('Student',), ('information_schema',), ('mysql',), ('performance_schema',), ('student1',), ('sudhanshu',), ('sudhanshu1',), ('sudhanshu12',), ('sudhanshu123',), ('sudhanshu12345',), ('sys',)]\n"
     ]
    }
   ],
   "source": [
    "print(cur.fetchall())"
   ]
  },
  {
   "cell_type": "code",
   "execution_count": 9,
   "id": "919d7256",
   "metadata": {},
   "outputs": [
    {
     "name": "stdout",
     "output_type": "stream",
     "text": [
      "True\n",
      "Table Created!!\n"
     ]
    }
   ],
   "source": [
    "try:\n",
    "    mydb = connection.connect(host=\"localhost\", database = 'student1',user=\"root\",use_pure=True)\n",
    "    # check if the connection is established\n",
    "    print(mydb.is_connected())\n",
    "\n",
    "    query = \"CREATE TABLE StudentDetails (Dep VARCHAR(45),Course VARCHAR(45),Year VARCHAR(45),Semester Varchar(45),Studentid INT(10) PRIMARY KEY, Name Varchar(45), Division Varchar(45), Roll Varchar(45), Gender Varchar(45), Dob Varchar(45), Email Varchar(45), Phone Varchar(45), Address Varchar(45), Teacher Varchar(45), PhotoSample Varchar(45))\"\n",
    "    \n",
    "\n",
    "    cursor = mydb.cursor() #create a cursor to execute queries\n",
    "    cursor.execute(query)\n",
    "    print(\"Table Created!!\")\n",
    "    mydb.close()\n",
    "except Exception as e:\n",
    "    mydb.close()\n",
    "    print(str(e))"
   ]
  },
  {
   "cell_type": "code",
   "execution_count": 10,
   "id": "9149e1fb",
   "metadata": {},
   "outputs": [],
   "source": [
    "mydb = connection.connect(host=\"localhost\", database = 'student1',user=\"root\",use_pure=True)"
   ]
  },
  {
   "cell_type": "code",
   "execution_count": 11,
   "id": "b3681830",
   "metadata": {},
   "outputs": [],
   "source": [
    "cur = mydb.cursor()"
   ]
  },
  {
   "cell_type": "code",
   "execution_count": 12,
   "id": "c3059b58",
   "metadata": {},
   "outputs": [],
   "source": [
    "cur.execute(\"select * from StudentDetails\")"
   ]
  },
  {
   "cell_type": "code",
   "execution_count": 13,
   "id": "5576ea25",
   "metadata": {},
   "outputs": [],
   "source": [
    "for i in cur.fetchall():\n",
    "    print(i)"
   ]
  },
  {
   "cell_type": "code",
   "execution_count": null,
   "id": "3ff69ba9",
   "metadata": {},
   "outputs": [],
   "source": []
  }
 ],
 "metadata": {
  "kernelspec": {
   "display_name": "Python 3 (ipykernel)",
   "language": "python",
   "name": "python3"
  },
  "language_info": {
   "codemirror_mode": {
    "name": "ipython",
    "version": 3
   },
   "file_extension": ".py",
   "mimetype": "text/x-python",
   "name": "python",
   "nbconvert_exporter": "python",
   "pygments_lexer": "ipython3",
   "version": "3.9.7"
  }
 },
 "nbformat": 4,
 "nbformat_minor": 5
}
